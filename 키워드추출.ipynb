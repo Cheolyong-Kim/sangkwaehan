{
 "cells": [
  {
   "cell_type": "code",
   "execution_count": 1,
   "id": "4b522af2",
   "metadata": {},
   "outputs": [],
   "source": [
    "import pandas as pd\n",
    "import numpy as np\n",
    "from konlpy.tag import Okt\n",
    "from tqdm import tqdm\n",
    "from tensorflow.keras.preprocessing.text import Tokenizer"
   ]
  },
  {
   "cell_type": "code",
   "execution_count": 2,
   "id": "13172c78",
   "metadata": {},
   "outputs": [],
   "source": [
    "장소 = ['태종대','해운대']"
   ]
  },
  {
   "cell_type": "code",
   "execution_count": 3,
   "id": "fc2db3e2",
   "metadata": {},
   "outputs": [],
   "source": [
    "def 키워드추출(장소):\n",
    "    키워드_리스트 = []\n",
    "    평점 = []\n",
    "    for j in 장소:\n",
    "        t_d = pd.read_csv(f'{j}.csv')\n",
    "        s_w=set(['곳','수','것','추천','정도','사람','때','정말','볼','꼭',\n",
    "             '좀','날','그','번','조금','가면','시간','타고','다누','방문'\n",
    "             ,'떄문','다시','예전','보고','중간','주변'])\n",
    "        okt = Okt()\n",
    "        p_data=[] \n",
    "        for i in tqdm(t_d['리뷰']): \n",
    "            tk_d=okt.nouns(i) \n",
    "            end_d=[w for w in tk_d if not w in s_w]\n",
    "            p_data.append(' '.join(end_d))\n",
    "        tk = Tokenizer(num_words=1000)\n",
    "        tk.fit_on_texts(p_data) \n",
    "        키워드개수 = sorted(list(tk.word_counts.items()),key=lambda x:x[1],reverse=True)[:10]\n",
    "        키워드top10=[]\n",
    "        for i in 키워드개수:\n",
    "            키워드top10.append(i[0])\n",
    "        키워드_리스트.append(키워드top10)\n",
    "        평점.append(t_d['평점'].mean())\n",
    "    장소_키워드_평점=pd.DataFrame(list(zip(장소, 키워드_리스트, 평점)) ,columns=['장소','키워드','평점'])\n",
    "    return 장소_키워드_평점"
   ]
  },
  {
   "cell_type": "code",
   "execution_count": 4,
   "id": "5e989116",
   "metadata": {},
   "outputs": [
    {
     "name": "stderr",
     "output_type": "stream",
     "text": [
      "100%|█████████████████████████████████████████████████████████████████████████████████████| 100/100 [00:08<00:00, 12.30it/s]\n",
      "100%|█████████████████████████████████████████████████████████████████████████████████████| 100/100 [00:01<00:00, 95.90it/s]\n"
     ]
    },
    {
     "data": {
      "text/html": [
       "<div>\n",
       "<style scoped>\n",
       "    .dataframe tbody tr th:only-of-type {\n",
       "        vertical-align: middle;\n",
       "    }\n",
       "\n",
       "    .dataframe tbody tr th {\n",
       "        vertical-align: top;\n",
       "    }\n",
       "\n",
       "    .dataframe thead th {\n",
       "        text-align: right;\n",
       "    }\n",
       "</style>\n",
       "<table border=\"1\" class=\"dataframe\">\n",
       "  <thead>\n",
       "    <tr style=\"text-align: right;\">\n",
       "      <th></th>\n",
       "      <th>장소</th>\n",
       "      <th>키워드</th>\n",
       "      <th>평점</th>\n",
       "    </tr>\n",
       "  </thead>\n",
       "  <tbody>\n",
       "    <tr>\n",
       "      <th>0</th>\n",
       "      <td>태종대</td>\n",
       "      <td>[태종대, 바다, 열차, 부산, 전망대, 비, 등대, 경치, 산책, 바람]</td>\n",
       "      <td>4.36</td>\n",
       "    </tr>\n",
       "    <tr>\n",
       "      <th>1</th>\n",
       "      <td>해운대</td>\n",
       "      <td>[해운대, 바다, 부산, 겨울, 해변, 여름, 밤, 여행, 산책, 해수욕장]</td>\n",
       "      <td>4.45</td>\n",
       "    </tr>\n",
       "  </tbody>\n",
       "</table>\n",
       "</div>"
      ],
      "text/plain": [
       "    장소                                         키워드    평점\n",
       "0  태종대   [태종대, 바다, 열차, 부산, 전망대, 비, 등대, 경치, 산책, 바람]  4.36\n",
       "1  해운대  [해운대, 바다, 부산, 겨울, 해변, 여름, 밤, 여행, 산책, 해수욕장]  4.45"
      ]
     },
     "execution_count": 4,
     "metadata": {},
     "output_type": "execute_result"
    }
   ],
   "source": [
    "결과 = 키워드추출(장소)\n",
    "결과"
   ]
  }
 ],
 "metadata": {
  "kernelspec": {
   "display_name": "Python 3 (ipykernel)",
   "language": "python",
   "name": "python3"
  },
  "language_info": {
   "codemirror_mode": {
    "name": "ipython",
    "version": 3
   },
   "file_extension": ".py",
   "mimetype": "text/x-python",
   "name": "python",
   "nbconvert_exporter": "python",
   "pygments_lexer": "ipython3",
   "version": "3.9.12"
  }
 },
 "nbformat": 4,
 "nbformat_minor": 5
}
