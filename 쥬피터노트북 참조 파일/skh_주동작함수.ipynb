{
 "cells": [
  {
   "cell_type": "code",
   "execution_count": 1,
   "id": "af87ac65",
   "metadata": {},
   "outputs": [],
   "source": [
    "import pandas as pd\n",
    "import numpy as np\n",
    "from ast import literal_eval\n",
    "from sklearn.feature_extraction.text import CountVectorizer\n",
    "from sklearn.metrics.pairwise import cosine_similarity\n",
    "from collections import Counter\n",
    "import random"
   ]
  },
  {
   "cell_type": "code",
   "execution_count": 2,
   "id": "fa68e403",
   "metadata": {},
   "outputs": [
    {
     "data": {
      "text/html": [
       "<div>\n",
       "<style scoped>\n",
       "    .dataframe tbody tr th:only-of-type {\n",
       "        vertical-align: middle;\n",
       "    }\n",
       "\n",
       "    .dataframe tbody tr th {\n",
       "        vertical-align: top;\n",
       "    }\n",
       "\n",
       "    .dataframe thead th {\n",
       "        text-align: right;\n",
       "    }\n",
       "</style>\n",
       "<table border=\"1\" class=\"dataframe\">\n",
       "  <thead>\n",
       "    <tr style=\"text-align: right;\">\n",
       "      <th></th>\n",
       "      <th>장소</th>\n",
       "      <th>키워드</th>\n",
       "      <th>평점</th>\n",
       "    </tr>\n",
       "  </thead>\n",
       "  <tbody>\n",
       "    <tr>\n",
       "      <th>0</th>\n",
       "      <td>해동용궁사</td>\n",
       "      <td>['칭찬', '해변', '로맨틱', '관광객', '휴일', '태풍', '행복', '...</td>\n",
       "      <td>4.219870</td>\n",
       "    </tr>\n",
       "    <tr>\n",
       "      <th>1</th>\n",
       "      <td>감천문화마을</td>\n",
       "      <td>['공짜', '여행객', '문화컨텍츠', '음식', '빈민가', '관광', '먹거리...</td>\n",
       "      <td>4.118841</td>\n",
       "    </tr>\n",
       "    <tr>\n",
       "      <th>2</th>\n",
       "      <td>흰여울문화마을</td>\n",
       "      <td>['식당', '디저트', '빵집', '즐거움', '패션', '전통의상', '시장',...</td>\n",
       "      <td>3.962175</td>\n",
       "    </tr>\n",
       "    <tr>\n",
       "      <th>3</th>\n",
       "      <td>부산민주공원</td>\n",
       "      <td>['승강기', '지하철', '홍보', '관광객', '파크', '시장', '도서관',...</td>\n",
       "      <td>4.687500</td>\n",
       "    </tr>\n",
       "    <tr>\n",
       "      <th>4</th>\n",
       "      <td>민락수변공원</td>\n",
       "      <td>['음식', '운치', '생선회', '피크닉', '낭만', '여름', '식당', '...</td>\n",
       "      <td>4.104167</td>\n",
       "    </tr>\n",
       "  </tbody>\n",
       "</table>\n",
       "</div>"
      ],
      "text/plain": [
       "        장소                                                키워드        평점\n",
       "0    해동용궁사  ['칭찬', '해변', '로맨틱', '관광객', '휴일', '태풍', '행복', '...  4.219870\n",
       "1   감천문화마을  ['공짜', '여행객', '문화컨텍츠', '음식', '빈민가', '관광', '먹거리...  4.118841\n",
       "2  흰여울문화마을  ['식당', '디저트', '빵집', '즐거움', '패션', '전통의상', '시장',...  3.962175\n",
       "3   부산민주공원  ['승강기', '지하철', '홍보', '관광객', '파크', '시장', '도서관',...  4.687500\n",
       "4   민락수변공원  ['음식', '운치', '생선회', '피크닉', '낭만', '여름', '식당', '...  4.104167"
      ]
     },
     "execution_count": 2,
     "metadata": {},
     "output_type": "execute_result"
    }
   ],
   "source": [
    "data = pd.read_csv('keyword_list.csv')\n",
    "data = data.drop(labels = 'Unnamed: 0', axis = 1)\n",
    "data"
   ]
  },
  {
   "cell_type": "code",
   "execution_count": 3,
   "id": "904c5f45",
   "metadata": {},
   "outputs": [
    {
     "data": {
      "text/html": [
       "<div>\n",
       "<style scoped>\n",
       "    .dataframe tbody tr th:only-of-type {\n",
       "        vertical-align: middle;\n",
       "    }\n",
       "\n",
       "    .dataframe tbody tr th {\n",
       "        vertical-align: top;\n",
       "    }\n",
       "\n",
       "    .dataframe thead th {\n",
       "        text-align: right;\n",
       "    }\n",
       "</style>\n",
       "<table border=\"1\" class=\"dataframe\">\n",
       "  <thead>\n",
       "    <tr style=\"text-align: right;\">\n",
       "      <th></th>\n",
       "      <th>장소</th>\n",
       "      <th>키워드</th>\n",
       "      <th>평점</th>\n",
       "    </tr>\n",
       "  </thead>\n",
       "  <tbody>\n",
       "    <tr>\n",
       "      <th>0</th>\n",
       "      <td>해동용궁사</td>\n",
       "      <td>[칭찬, 해변, 로맨틱, 관광객, 휴일, 태풍, 행복, 날씨돟운날, 한여름, 여름철]</td>\n",
       "      <td>4.219870</td>\n",
       "    </tr>\n",
       "    <tr>\n",
       "      <th>1</th>\n",
       "      <td>감천문화마을</td>\n",
       "      <td>[공짜, 여행객, 문화컨텍츠, 음식, 빈민가, 관광, 먹거리, 소풍, 즐거움, 외로움]</td>\n",
       "      <td>4.118841</td>\n",
       "    </tr>\n",
       "    <tr>\n",
       "      <th>2</th>\n",
       "      <td>흰여울문화마을</td>\n",
       "      <td>[식당, 디저트, 빵집, 즐거움, 패션, 전통의상, 시장, 여직원, 거리음식, 쇼핑]</td>\n",
       "      <td>3.962175</td>\n",
       "    </tr>\n",
       "    <tr>\n",
       "      <th>3</th>\n",
       "      <td>부산민주공원</td>\n",
       "      <td>[승강기, 지하철, 홍보, 관광객, 파크, 시장, 도서관, 벚꽃, 시내버스, 쇼핑]</td>\n",
       "      <td>4.687500</td>\n",
       "    </tr>\n",
       "    <tr>\n",
       "      <th>4</th>\n",
       "      <td>민락수변공원</td>\n",
       "      <td>[음식, 운치, 생선회, 피크닉, 낭만, 여름, 식당, 광안리해수욕장, 여름철, 관광객]</td>\n",
       "      <td>4.104167</td>\n",
       "    </tr>\n",
       "  </tbody>\n",
       "</table>\n",
       "</div>"
      ],
      "text/plain": [
       "        장소                                                키워드        평점\n",
       "0    해동용궁사    [칭찬, 해변, 로맨틱, 관광객, 휴일, 태풍, 행복, 날씨돟운날, 한여름, 여름철]  4.219870\n",
       "1   감천문화마을   [공짜, 여행객, 문화컨텍츠, 음식, 빈민가, 관광, 먹거리, 소풍, 즐거움, 외로움]  4.118841\n",
       "2  흰여울문화마을    [식당, 디저트, 빵집, 즐거움, 패션, 전통의상, 시장, 여직원, 거리음식, 쇼핑]  3.962175\n",
       "3   부산민주공원     [승강기, 지하철, 홍보, 관광객, 파크, 시장, 도서관, 벚꽃, 시내버스, 쇼핑]  4.687500\n",
       "4   민락수변공원  [음식, 운치, 생선회, 피크닉, 낭만, 여름, 식당, 광안리해수욕장, 여름철, 관광객]  4.104167"
      ]
     },
     "execution_count": 3,
     "metadata": {},
     "output_type": "execute_result"
    }
   ],
   "source": [
    "data['키워드'] = data['키워드'].apply(literal_eval)\n",
    "data"
   ]
  },
  {
   "cell_type": "code",
   "execution_count": 4,
   "id": "031d5512",
   "metadata": {},
   "outputs": [
    {
     "data": {
      "text/html": [
       "<div>\n",
       "<style scoped>\n",
       "    .dataframe tbody tr th:only-of-type {\n",
       "        vertical-align: middle;\n",
       "    }\n",
       "\n",
       "    .dataframe tbody tr th {\n",
       "        vertical-align: top;\n",
       "    }\n",
       "\n",
       "    .dataframe thead th {\n",
       "        text-align: right;\n",
       "    }\n",
       "</style>\n",
       "<table border=\"1\" class=\"dataframe\">\n",
       "  <thead>\n",
       "    <tr style=\"text-align: right;\">\n",
       "      <th></th>\n",
       "      <th>장소</th>\n",
       "      <th>키워드</th>\n",
       "      <th>평점</th>\n",
       "      <th>키워드_literal</th>\n",
       "    </tr>\n",
       "  </thead>\n",
       "  <tbody>\n",
       "    <tr>\n",
       "      <th>0</th>\n",
       "      <td>해동용궁사</td>\n",
       "      <td>[칭찬, 해변, 로맨틱, 관광객, 휴일, 태풍, 행복, 날씨돟운날, 한여름, 여름철]</td>\n",
       "      <td>4.219870</td>\n",
       "      <td>칭찬 해변 로맨틱 관광객 휴일 태풍 행복 날씨돟운날 한여름 여름철</td>\n",
       "    </tr>\n",
       "    <tr>\n",
       "      <th>1</th>\n",
       "      <td>감천문화마을</td>\n",
       "      <td>[공짜, 여행객, 문화컨텍츠, 음식, 빈민가, 관광, 먹거리, 소풍, 즐거움, 외로움]</td>\n",
       "      <td>4.118841</td>\n",
       "      <td>공짜 여행객 문화컨텍츠 음식 빈민가 관광 먹거리 소풍 즐거움 외로움</td>\n",
       "    </tr>\n",
       "    <tr>\n",
       "      <th>2</th>\n",
       "      <td>흰여울문화마을</td>\n",
       "      <td>[식당, 디저트, 빵집, 즐거움, 패션, 전통의상, 시장, 여직원, 거리음식, 쇼핑]</td>\n",
       "      <td>3.962175</td>\n",
       "      <td>식당 디저트 빵집 즐거움 패션 전통의상 시장 여직원 거리음식 쇼핑</td>\n",
       "    </tr>\n",
       "    <tr>\n",
       "      <th>3</th>\n",
       "      <td>부산민주공원</td>\n",
       "      <td>[승강기, 지하철, 홍보, 관광객, 파크, 시장, 도서관, 벚꽃, 시내버스, 쇼핑]</td>\n",
       "      <td>4.687500</td>\n",
       "      <td>승강기 지하철 홍보 관광객 파크 시장 도서관 벚꽃 시내버스 쇼핑</td>\n",
       "    </tr>\n",
       "    <tr>\n",
       "      <th>4</th>\n",
       "      <td>민락수변공원</td>\n",
       "      <td>[음식, 운치, 생선회, 피크닉, 낭만, 여름, 식당, 광안리해수욕장, 여름철, 관광객]</td>\n",
       "      <td>4.104167</td>\n",
       "      <td>음식 운치 생선회 피크닉 낭만 여름 식당 광안리해수욕장 여름철 관광객</td>\n",
       "    </tr>\n",
       "  </tbody>\n",
       "</table>\n",
       "</div>"
      ],
      "text/plain": [
       "        장소                                                키워드        평점  \\\n",
       "0    해동용궁사    [칭찬, 해변, 로맨틱, 관광객, 휴일, 태풍, 행복, 날씨돟운날, 한여름, 여름철]  4.219870   \n",
       "1   감천문화마을   [공짜, 여행객, 문화컨텍츠, 음식, 빈민가, 관광, 먹거리, 소풍, 즐거움, 외로움]  4.118841   \n",
       "2  흰여울문화마을    [식당, 디저트, 빵집, 즐거움, 패션, 전통의상, 시장, 여직원, 거리음식, 쇼핑]  3.962175   \n",
       "3   부산민주공원     [승강기, 지하철, 홍보, 관광객, 파크, 시장, 도서관, 벚꽃, 시내버스, 쇼핑]  4.687500   \n",
       "4   민락수변공원  [음식, 운치, 생선회, 피크닉, 낭만, 여름, 식당, 광안리해수욕장, 여름철, 관광객]  4.104167   \n",
       "\n",
       "                              키워드_literal  \n",
       "0    칭찬 해변 로맨틱 관광객 휴일 태풍 행복 날씨돟운날 한여름 여름철  \n",
       "1   공짜 여행객 문화컨텍츠 음식 빈민가 관광 먹거리 소풍 즐거움 외로움  \n",
       "2    식당 디저트 빵집 즐거움 패션 전통의상 시장 여직원 거리음식 쇼핑  \n",
       "3     승강기 지하철 홍보 관광객 파크 시장 도서관 벚꽃 시내버스 쇼핑  \n",
       "4  음식 운치 생선회 피크닉 낭만 여름 식당 광안리해수욕장 여름철 관광객  "
      ]
     },
     "execution_count": 4,
     "metadata": {},
     "output_type": "execute_result"
    }
   ],
   "source": [
    "data['키워드_literal'] = data['키워드'].apply(lambda x: (' ').join(x))\n",
    "data"
   ]
  },
  {
   "cell_type": "code",
   "execution_count": 20,
   "id": "63ee369d",
   "metadata": {},
   "outputs": [
    {
     "name": "stdout",
     "output_type": "stream",
     "text": [
      "키워드를 입력하세요 : 쇼핑\n"
     ]
    }
   ],
   "source": [
    "user_input = input('키워드를 입력하세요 : ')"
   ]
  },
  {
   "cell_type": "code",
   "execution_count": 6,
   "id": "0c68b597",
   "metadata": {},
   "outputs": [
    {
     "data": {
      "text/plain": [
       "['칭찬',\n",
       " '해변',\n",
       " '로맨틱',\n",
       " '관광객',\n",
       " '휴일',\n",
       " '태풍',\n",
       " '행복',\n",
       " '날씨돟운날',\n",
       " '한여름',\n",
       " '여름철',\n",
       " '공짜',\n",
       " '여행객',\n",
       " '문화컨텍츠',\n",
       " '음식',\n",
       " '빈민가',\n",
       " '관광',\n",
       " '먹거리',\n",
       " '소풍',\n",
       " '즐거움',\n",
       " '외로움',\n",
       " '식당',\n",
       " '디저트',\n",
       " '빵집',\n",
       " '즐거움',\n",
       " '패션',\n",
       " '전통의상',\n",
       " '시장',\n",
       " '여직원',\n",
       " '거리음식',\n",
       " '쇼핑',\n",
       " '승강기',\n",
       " '지하철',\n",
       " '홍보',\n",
       " '관광객',\n",
       " '파크',\n",
       " '시장',\n",
       " '도서관',\n",
       " '벚꽃',\n",
       " '시내버스',\n",
       " '쇼핑',\n",
       " '음식',\n",
       " '운치',\n",
       " '생선회',\n",
       " '피크닉',\n",
       " '낭만',\n",
       " '여름',\n",
       " '식당',\n",
       " '광안리해수욕장',\n",
       " '여름철',\n",
       " '관광객']"
      ]
     },
     "execution_count": 6,
     "metadata": {},
     "output_type": "execute_result"
    }
   ],
   "source": [
    "keyword_list = sum(data['키워드'].to_list(), [])\n",
    "keyword_list"
   ]
  },
  {
   "cell_type": "code",
   "execution_count": 22,
   "id": "cbe66a65",
   "metadata": {},
   "outputs": [
    {
     "name": "stdout",
     "output_type": "stream",
     "text": [
      "3     부산민주공원\n",
      "2    흰여울문화마을\n",
      "4     민락수변공원\n",
      "1     감천문화마을\n",
      "Name: 장소, dtype: object\n"
     ]
    }
   ],
   "source": [
    "if user_input in keyword_list:\n",
    "    input_sereris = {'장소': '사용자', '키워드': np.nan, '평점': np.nan, '키워드_literal': f'{user_input}'}\n",
    "    user_series = pd.Series(input_sereris)\n",
    "    new_data = data.append(user_series, ignore_index=True)\n",
    "    count_vec = CountVectorizer(min_df=0)\n",
    "    keyword_mat = count_vec.fit_transform(new_data['키워드_literal'])\n",
    "    keyword_sim = cosine_similarity(keyword_mat, keyword_mat)\n",
    "    keyword_sim_sorted_ind = keyword_sim.argsort()[:, ::-1]\n",
    "    input_user = new_data[new_data['장소'] == '사용자']\n",
    "    input_idx = input_user.index.values\n",
    "    similar_idx = keyword_sim_sorted_ind[input_idx]\n",
    "    similar_idxs = similar_idx.reshape(-1)\n",
    "    print(new_data.iloc[similar_idxs][1:5]['장소'])\n",
    "else:\n",
    "    maximum = []\n",
    "    cnt = Counter(keyword_list)\n",
    "    order = cnt.most_common(10)\n",
    "    for i in order:\n",
    "        maximum.append(list(i)[0])\n",
    "    random.shuffle(maximum)\n",
    "    print(maximum[:5])"
   ]
  },
  {
   "cell_type": "code",
   "execution_count": null,
   "id": "858f3e63",
   "metadata": {},
   "outputs": [],
   "source": []
  }
 ],
 "metadata": {
  "kernelspec": {
   "display_name": "Python 3 (ipykernel)",
   "language": "python",
   "name": "python3"
  },
  "language_info": {
   "codemirror_mode": {
    "name": "ipython",
    "version": 3
   },
   "file_extension": ".py",
   "mimetype": "text/x-python",
   "name": "python",
   "nbconvert_exporter": "python",
   "pygments_lexer": "ipython3",
   "version": "3.8.12"
  }
 },
 "nbformat": 4,
 "nbformat_minor": 5
}
