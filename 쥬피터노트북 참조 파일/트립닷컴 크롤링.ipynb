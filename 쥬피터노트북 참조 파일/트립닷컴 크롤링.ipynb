{
 "cells": [
  {
   "cell_type": "code",
   "execution_count": 66,
   "id": "29d7c106",
   "metadata": {},
   "outputs": [],
   "source": [
    "from selenium import webdriver\n",
    "import chromedriver_autoinstaller\n",
    "import time\n",
    "from tqdm import tqdm_notebook\n",
    "from selenium.webdriver.common.keys import Keys\n",
    "import pickle\n",
    "\n",
    "import warnings\n",
    "warnings.filterwarnings('ignore')"
   ]
  },
  {
   "cell_type": "code",
   "execution_count": 67,
   "id": "1e894ece",
   "metadata": {},
   "outputs": [],
   "source": [
    "# 트립닷컴 접속\n",
    "chrome_path = chromedriver_autoinstaller.install()\n",
    "driver = webdriver.Chrome(chrome_path)\n",
    "\n",
    "driver.get('https://kr.trip.com/?allianceid=14887&sid=1621818&ppcid=ckid-58405427_adid-520580363185_akid-kwd-415216391968_adgid-122493363536&utm_source=google&utm_medium=cpc&utm_campaign=Trip_KR-ko+Exact+2&ds_cid=71700000083539479&ds_kid=43700063610995885&gclid=CjwKCAjwtcCVBhA0EiwAT1fY7xJ2rWB6av3kZ68J0IUw0aMFQ4fdFwMFf90DoVp9p0kQHyFxJvE4oBoCcl8QAvD_BwE&gclsrc=aw.ds')\n",
    "time.sleep(2)"
   ]
  },
  {
   "cell_type": "code",
   "execution_count": 68,
   "id": "32eb1707",
   "metadata": {},
   "outputs": [],
   "source": [
    "# 검색창 감천문화마을 입력\n",
    "element = driver.find_element_by_xpath('//*[@id=\"header-search-container\"]/div/div[1]/input')\n",
    "element.send_keys('해운대')"
   ]
  },
  {
   "cell_type": "code",
   "execution_count": 69,
   "id": "0a10ea36",
   "metadata": {},
   "outputs": [],
   "source": [
    "# 검색버튼 클릭\n",
    "element = driver.find_element_by_xpath('//*[@id=\"header-search-container\"]/div/div[2]')\n",
    "element.click()"
   ]
  },
  {
   "cell_type": "code",
   "execution_count": 70,
   "id": "11521a3a",
   "metadata": {},
   "outputs": [],
   "source": [
    "# 새창 전환\n",
    "driver.switch_to.window(driver.window_handles[-1])\n",
    "time.sleep(2)"
   ]
  },
  {
   "cell_type": "code",
   "execution_count": 71,
   "id": "de7e7a0c",
   "metadata": {},
   "outputs": [],
   "source": [
    "# 좌측 메뉴에서 명소 탭 클릭\n",
    "menu = driver.find_elements_by_class_name('tab-name')\n",
    "\n",
    "for i in menu:\n",
    "    if '명소' in i.text:\n",
    "        i.click()\n",
    "        time.sleep(2)"
   ]
  },
  {
   "cell_type": "code",
   "execution_count": 72,
   "id": "2a71e17d",
   "metadata": {},
   "outputs": [],
   "source": [
    "# 장소 클릭\n",
    "element = driver.find_element_by_class_name('gl-search-result_list-content')\n",
    "element.click()\n",
    "time.sleep(2)"
   ]
  },
  {
   "cell_type": "code",
   "execution_count": 74,
   "id": "769a5216",
   "metadata": {},
   "outputs": [],
   "source": [
    "# 리뷰가 있는 곳으로 이동\n",
    "element = driver.find_element_by_xpath('//*[@id=\"poi.detail.overview\"]/div/div[2]/div/div[1]/div[1]/span[2]/div')\n",
    "\n",
    "element.click()"
   ]
  },
  {
   "cell_type": "code",
   "execution_count": 55,
   "id": "3db256d3",
   "metadata": {},
   "outputs": [
    {
     "name": "stdout",
     "output_type": "stream",
     "text": [
      "아름다운 해변과 화려한 건물은 도시에서 잘 조화되어 있습니다.\n",
      "방문하기에 매우 흥미로운 도시입니다. 맛있는 음식, 아름다운 바다, 친절한 사람들과 함께 추천 차선. 부산 주변의 무료 자동차.\n",
      "해운대 해수욕장은 한국에서 가장 유명한 해양 휴양지이며 해안선을 따라 현대적인 시설을 갖추고 있습니다. 매년 1 천만 명 이상의 국내외 관광객을 수용 할 수 있으며, 주요 개장 계절은 매년 7 월과 8 월입니다. 매우 긴 해변, 부드러운 모래, 가장 특징적인 것은 해안선을 따라 다른 색상의 큰 우산이며, 높이는 매우 아름답습니다. 우리는 섬을 순항하여 방문했다. ... 해운대는 한국 해변과 동의어이며 부산의 자부심이라고 말하는 것은 과장되지 않습니다. 해운대가 한국인들에게 사랑받는 이유는 이곳의 해변이 넓기 때문입니다 : 길이 1.8 킬로미터, 너비 30-50 미터, 총 면적은 58.4 평방 킬로미터이며 최대 12 만 명을 수용 할 수 있습니다. 또한 해운대 해변의 모래와 조개 껍질 조각은 풍화를 통해 섬세하고 평평 해졌으며 파도는 매우 침착했습니다. 해운대에서 해수욕을 즐기기에 좋은 조건을 가지고 있기 때문에 근처에 맛있는 레스토랑과 호텔이 많이 있으며 자연스럽게 사람들이 열렬히 추구합니다.\n",
      "해운대가 이렇게 좋아졌을줄은 상상도 못했음.대한민국의 부산의 대표적 관광지 입니다.최고 👍\n",
      "걷기도 좋고 맥주한잔 하기도 좋고 너무 좋아요\n",
      "해운대에서 청사포 산책로는 너무아름다워요\n",
      "광안리 보고나서 해운대 왔는데...비교가 안되네여..너무 이쁘고 커요 ><\n"
     ]
    }
   ],
   "source": [
    "test = driver.find_elements_by_class_name('mt10.hover-pointer ')\n",
    "\n",
    "for i in test:\n",
    "    print(i.text)"
   ]
  },
  {
   "cell_type": "code",
   "execution_count": 78,
   "id": "b45c04a2",
   "metadata": {},
   "outputs": [
    {
     "name": "stdout",
     "output_type": "stream",
     "text": [
      "test\n",
      "test\n",
      "test\n",
      "test\n",
      "부산\n",
      "test\n"
     ]
    }
   ],
   "source": [
    "a = driver.find_elements_by_class_name('gl-component-bread-crumb_item')\n",
    "\n",
    "for i in a:\n",
    "    if '부산' in i.text:\n",
    "        print(i.text)\n",
    "    else:\n",
    "        print('test')"
   ]
  },
  {
   "cell_type": "code",
   "execution_count": 31,
   "id": "c986b787",
   "metadata": {},
   "outputs": [],
   "source": [
    "# 다음 페이지 이동\n",
    "driver.find_element_by_class_name('ReviewListContainer-p31g93-0 button.btn-next').send_keys(Keys.RETURN)"
   ]
  },
  {
   "cell_type": "code",
   "execution_count": 14,
   "id": "1ed7382f",
   "metadata": {},
   "outputs": [
    {
     "name": "stdout",
     "output_type": "stream",
     "text": [
      "test Message: no such element: Unable to locate element: {\"method\":\"css selector\",\"selector\":\".btn-next.disabled\"}\n",
      "  (Session info: chrome=102.0.5005.115)\n",
      "Stacktrace:\n",
      "Backtrace:\n",
      "\tOrdinal0 [0x00932733+2434867]\n",
      "\tOrdinal0 [0x008C07A1+1968033]\n",
      "\tOrdinal0 [0x007AC678+837240]\n",
      "\tOrdinal0 [0x007D94E0+1021152]\n",
      "\tOrdinal0 [0x007D977B+1021819]\n",
      "\tOrdinal0 [0x00806592+1205650]\n",
      "\tOrdinal0 [0x007F4484+1131652]\n",
      "\tOrdinal0 [0x00804892+1198226]\n",
      "\tOrdinal0 [0x007F4256+1131094]\n",
      "\tOrdinal0 [0x007CE840+976960]\n",
      "\tOrdinal0 [0x007CF736+980790]\n",
      "\tGetHandleVerifier [0x00BA3C72+2515426]\n",
      "\tGetHandleVerifier [0x00B9702F+2463135]\n",
      "\tGetHandleVerifier [0x009D522A+620442]\n",
      "\tGetHandleVerifier [0x009D4016+615814]\n",
      "\tOrdinal0 [0x008C707B+1994875]\n",
      "\tOrdinal0 [0x008CB938+2013496]\n",
      "\tOrdinal0 [0x008CBA25+2013733]\n",
      "\tOrdinal0 [0x008D4DE1+2051553]\n",
      "\tBaseThreadInitThunk [0x7704FA29+25]\n",
      "\tRtlGetAppContainerNamedObjectPath [0x77DD7A9E+286]\n",
      "\tRtlGetAppContainerNamedObjectPath [0x77DD7A6E+238]\n",
      "\n"
     ]
    }
   ],
   "source": [
    "try:\n",
    "    driver.find_element_by_class_name('btn-next.disabled')\n",
    "except Exception as e:\n",
    "    print('test', e)"
   ]
  },
  {
   "cell_type": "code",
   "execution_count": 80,
   "id": "dfce53aa",
   "metadata": {},
   "outputs": [],
   "source": [
    "def crawling_tripdotcom(place):\n",
    "    # 크롬 접속\n",
    "    chrome_path = chromedriver_autoinstaller.install()\n",
    "    driver = webdriver.Chrome(chrome_path)\n",
    "\n",
    "    driver.get('https://kr.trip.com/?allianceid=14887&sid=1621818&ppcid=ckid-58405427_adid-520580363185_akid-kwd-415216391968_adgid-122493363536&utm_source=google&utm_medium=cpc&utm_campaign=Trip_KR-ko+Exact+2&ds_cid=71700000083539479&ds_kid=43700063610995885&gclid=CjwKCAjwtcCVBhA0EiwAT1fY7xJ2rWB6av3kZ68J0IUw0aMFQ4fdFwMFf90DoVp9p0kQHyFxJvE4oBoCcl8QAvD_BwE&gclsrc=aw.ds')\n",
    "    time.sleep(2)\n",
    "    \n",
    "    # 검색창에 관광지 입력\n",
    "    element = driver.find_element_by_xpath('//*[@id=\"header-search-container\"]/div/div[1]/input')\n",
    "    element.send_keys(place)\n",
    "    \n",
    "    # 검색 버튼 클릭\n",
    "    element = driver.find_element_by_xpath('//*[@id=\"header-search-container\"]/div/div[2]')\n",
    "    element.click()\n",
    "    time.sleep(1)\n",
    "    \n",
    "    # 새창 전환\n",
    "    driver.switch_to.window(driver.window_handles[-1])\n",
    "    time.sleep(2)\n",
    "    \n",
    "    # 좌측 메뉴에서 명소 탭 클릭\n",
    "    menu = driver.find_elements_by_class_name('tab-name')\n",
    "    for i in menu:\n",
    "        if '명소' in i.text:\n",
    "            i.click()\n",
    "            time.sleep(2)\n",
    "    \n",
    "    try:\n",
    "        # 장소 클릭\n",
    "        element = driver.find_element_by_class_name('gl-search-result_list-content')\n",
    "        element.click()\n",
    "        time.sleep(2)\n",
    "        \n",
    "        region_check = False\n",
    "        regions = driver.find_elements_by_class_name('gl-component-bread-crumb_item')\n",
    "        for region in regions:\n",
    "            if '부산' in region.text:\n",
    "                region_check = True\n",
    "                break\n",
    "\n",
    "        if region_check:\n",
    "            # 리뷰가 있는 곳으로 이동\n",
    "            element = driver.find_element_by_xpath('//*[@id=\"poi.detail.overview\"]/div/div[2]/div/div[1]/div[1]/span[2]/div')\n",
    "            element.click()\n",
    "            time.sleep(2)\n",
    "\n",
    "            reviews = []\n",
    "            stars = []\n",
    "            check = True\n",
    "            while check:\n",
    "                try:\n",
    "                    driver.find_element_by_class_name('btn-next.disabled')\n",
    "\n",
    "                    review_data = driver.find_elements_by_class_name('mt10.hover-pointer ')\n",
    "                    star_data = driver.find_elements_by_class_name('review_score')\n",
    "                    if len(star_data) == 0:\n",
    "                        check = False\n",
    "\n",
    "                    for i in review_data:\n",
    "                        reviews.append(i.text)\n",
    "                    for i in star_data:\n",
    "                        if len(i.text) < 2:\n",
    "                            stars.append(i.text)\n",
    "\n",
    "                    check = False\n",
    "                except:\n",
    "                    review_data = driver.find_elements_by_class_name('mt10.hover-pointer ')\n",
    "                    star_data = driver.find_elements_by_class_name('review_score')\n",
    "                    if len(star_data) == 0:\n",
    "                        check = False\n",
    "\n",
    "                    for i in review_data:\n",
    "                        reviews.append(i.text)\n",
    "                    for i in star_data:\n",
    "                        if len(i.text) < 2:\n",
    "                            stars.append(i.text)\n",
    "                    driver.find_element_by_class_name('ReviewListContainer-p31g93-0 button.btn-next').send_keys(Keys.RETURN)\n",
    "                    time.sleep(2)\n",
    "\n",
    "            out_review = list(zip(reviews, stars))\n",
    "            pickle_data = {}\n",
    "            pickle_data['리뷰'] = out_review\n",
    "            pickle_data['리뷰수']  = len(reviews)\n",
    "\n",
    "            try:\n",
    "                with open(f'{place}_.pickle', 'rb') as fr:\n",
    "                    loaded_data = pickle.load(fr)     \n",
    "\n",
    "                new_out = loaded_data['리뷰'] + out_review\n",
    "                new_num_of_review = loaded_data['리뷰수'] + len(reviews)\n",
    "                pickle_data = {'리뷰': new_out, '리뷰수': new_num_of_review}\n",
    "\n",
    "                with open(f'{place}_.pickle', 'wb') as fw:\n",
    "                    pickle.dump(pickle_data, fw)\n",
    "            except:\n",
    "                with open(f'{place}_.pickle', 'wb') as fw:\n",
    "                    pickle.dump(pickle_data, fw)\n",
    "        else:\n",
    "            print('부산 관광지가 아닙니다.')\n",
    "    except Exception as e:\n",
    "        print(f'{place}에 해당하는 검색결과가 없습니다.\\n', e)"
   ]
  },
  {
   "cell_type": "code",
   "execution_count": 81,
   "id": "a77816c1",
   "metadata": {},
   "outputs": [
    {
     "name": "stdout",
     "output_type": "stream",
     "text": [
      "부산 관광지가 아닙니다.\n"
     ]
    }
   ],
   "source": [
    "crawling_tripdotcom('차이나 타운')"
   ]
  },
  {
   "cell_type": "code",
   "execution_count": null,
   "id": "43bd9bca",
   "metadata": {},
   "outputs": [],
   "source": []
  }
 ],
 "metadata": {
  "kernelspec": {
   "display_name": "Python 3 (ipykernel)",
   "language": "python",
   "name": "python3"
  },
  "language_info": {
   "codemirror_mode": {
    "name": "ipython",
    "version": 3
   },
   "file_extension": ".py",
   "mimetype": "text/x-python",
   "name": "python",
   "nbconvert_exporter": "python",
   "pygments_lexer": "ipython3",
   "version": "3.9.7"
  }
 },
 "nbformat": 4,
 "nbformat_minor": 5
}
