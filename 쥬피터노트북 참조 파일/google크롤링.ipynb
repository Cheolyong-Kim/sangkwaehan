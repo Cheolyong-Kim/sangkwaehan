{
 "cells": [
  {
   "cell_type": "code",
   "execution_count": 10,
   "id": "99cd40b0",
   "metadata": {},
   "outputs": [],
   "source": [
    "import numpy as np\n",
    "import pandas as pd\n",
    "import csv\n",
    "\n",
    "from selenium import webdriver\n",
    "import chromedriver_autoinstaller\n",
    "\n",
    "from tqdm import tqdm, tqdm_notebook\n",
    "from tqdm.notebook import tqdm\n",
    "import re\n",
    "from time import sleep\n",
    "import time\n",
    "import warnings\n",
    "warnings.filterwarnings('ignore')\n",
    "import random\n",
    "import pickle\n",
    "t=random.choice([1,2,3])\n",
    "tt=random.choice([7,9,11])"
   ]
  },
  {
   "cell_type": "code",
   "execution_count": 13,
   "id": "971aa10b",
   "metadata": {},
   "outputs": [],
   "source": [
    "def 구글크롤링(key):\n",
    "    \n",
    "    #크롬 구글맵url불러오기\n",
    "    chrome_path=chromedriver_autoinstaller.install()\n",
    "    driver = webdriver.Chrome(chrome_path)\n",
    "    time.sleep(3)\n",
    "    driver.get(\"https://www.google.co.kr/maps/?hl=ko\")\n",
    "    driver.implicitly_wait(10)\n",
    "    \n",
    "    #검색어지정\n",
    "    find = driver.find_element_by_xpath('//*[@id=\"searchboxinput\"]')\n",
    "    find.send_keys(f\"{key}\")\n",
    "    driver.implicitly_wait(tt)\n",
    "    \n",
    "    #검색하기\n",
    "    driver.find_element_by_xpath('//*[@id=\"searchbox-searchbutton\"]').click()\n",
    "    time.sleep(t)\n",
    "    try:\n",
    "        try:\n",
    "            driver.find_element_by_css_selector('.Nv2PK.Q2HXcd.THOPZb .hfpxzc').click()\n",
    "        except:\n",
    "            driver.find_element_by_css_selector('.Nv2PK.THOPZb.CpccDe .hfpxzc').click()\n",
    "    # 관광지리스트명이랑 검색지명 동일한지 확인\n",
    "        검색지명 = driver.find_element_by_css_selector('.tAiQdd .lMbq3e .DUwDvf.fontHeadlineLarge').text    \n",
    "        #         if key == 검색지명:\n",
    "        driver.implicitly_wait(tt)\n",
    "        try:\n",
    "            driver.find_element_by_xpath('//*[@id=\"QA0Szd\"]/div/div/div[1]/div[2]/div/div[1]/div/div/div[2]/div[1]/div[1]/div[2]/div/div[1]')\n",
    "        except:\n",
    "            driver.close()\n",
    "#리뷰더보기\n",
    "        try:\n",
    "            element = driver.find_element_by_css_selector('#QA0Szd > div > div > div.w6VYqd > div.bJzME.tTVLSc > div > div.e07Vkf.kA9KIf')\n",
    "            time.sleep(t)\n",
    "            driver.execute_script('arguments[0].scrollTop = arguments[0].scrollHeight', element)\n",
    "            time.sleep(t)\n",
    "            element = driver.find_elements_by_css_selector(\".m6QErb.Hk4XGb.QoaCgb.KoSBEe.tLjsW .M77dve\")\n",
    "            if len(element) < 2:\n",
    "                driver.execute_script(\"arguments[0].click();\", element[0])\n",
    "                time.sleep(t)\n",
    "            else:\n",
    "                driver.execute_script(\"arguments[0].click();\", element[1])\n",
    "                time.sleep(t)\n",
    "        except:\n",
    "            try:\n",
    "                driver.find_element_by_xpath('//*[@id=\"QA0Szd\"]/div/div/div[1]/div[2]/div/div[1]/div/div/div[2]/div[1]/div[1]/div[2]/div/div[1]/span[1]/span/span/span[2]/span[1]/button').click()\n",
    "            except:\n",
    "                driver.close()\n",
    "                \n",
    "        #스크롤100번 내리기\n",
    "        try:\n",
    "            리뷰총수 = driver.find_element_by_xpath('//*[@id=\"QA0Szd\"]/div/div/div[1]/div[2]/div/div[1]/div/div/div[2]/div[2]/div/div[2]/div[2]').text\n",
    "        except:\n",
    "            try:\n",
    "                리뷰총수=driver.find_element_by_xpath('//*[@id=\"QA0Szd\"]/div/div/div[1]/div[2]/div/div[1]/div/div/div[3]/div[2]/div/div[2]/div[2]').text\n",
    "            except:\n",
    "                driver.close()\n",
    "        페이지카운트 = 100\n",
    "        try:\n",
    "            리뷰총수 = 리뷰총수.replace(\"리뷰 \",\"\").replace(\"개\",\"\").replace(',',\"\")\n",
    "        except:\n",
    "            리뷰총수 = 리뷰총수.replace(\"리뷰 \",\"\").replace(\"개\",\"\")\n",
    "        if int(리뷰총수) < 1001:\n",
    "            페이지카운트 = (int(리뷰총수) // 10)+1\n",
    "\n",
    "        for _ in range(페이지카운트):\n",
    "            scroll = driver.find_element_by_css_selector(\n",
    "                        '#QA0Szd > div > div > div.w6VYqd > div.bJzME.tTVLSc > div > div.e07Vkf.kA9KIf > div > div > div.m6QErb.DxyBCb.kA9KIf.dS8AEf')\n",
    "            time.sleep(1)\n",
    "            driver.execute_script('arguments[0].scrollTop = arguments[0].scrollHeight', scroll)\n",
    "            time.sleep(1)\n",
    "\n",
    "#평점 리스트\n",
    "        구글평점 = driver.find_elements_by_css_selector('.GHT2ce .DU9Pgb .kvMYJc')\n",
    "\n",
    "#리뷰 리스트\n",
    "        구글리뷰 = driver.find_elements_by_css_selector('.GHT2ce .MyEned .wiI7pd')\n",
    "\n",
    "#리뷰수\n",
    "        구글리뷰수 = len(구글리뷰)\n",
    "\n",
    "# 평점 리뷰 묶기\n",
    "        구글리뷰_평점=[]\n",
    "        \n",
    "        for i in tqdm(range(len(구글리뷰))):\n",
    "            try:\n",
    "                reivew = [구글리뷰[i].text,구글평점[i].get_attribute('aria-label').replace(\" 별표 \",\"\").replace(\"개 \",\"\")]\n",
    "                구글리뷰_평점.append(reivew)\n",
    "            except:\n",
    "                continue\n",
    "        \n",
    "    #트립어드바이저 피클 불러오기\n",
    "#             with open(f\"{key}_.pickle\",\"rb\") as fr:\n",
    "#                 크롤링_리뷰수 = pickle.load(fr)\n",
    "#                 reviews = 크롤링_리뷰수['트립리뷰수']\n",
    "#                 out_re = 크롤링_리뷰수['트립리뷰']\n",
    "\n",
    "    #트립어드바이저 & 구글 데이터 병합\n",
    "#             리뷰수 = reviews + 구글리뷰수\n",
    "\n",
    "#             리뷰평점크롤링 = out_re+구글리뷰_평점\n",
    "    \n",
    "#피클로 저장하기\n",
    "        구글_리뷰크롤링={}\n",
    "        구글_리뷰크롤링['구글리뷰'] = 구글리뷰_평점\n",
    "        구글_리뷰크롤링['구글리뷰수']  = 구글리뷰수\n",
    "        with open(f\"{key}.pickle\",\"wb\") as fw:\n",
    "            pickle.dump(구글_리뷰크롤링, fw)\n",
    "#         else:\n",
    "#             driver.quit()\n",
    "        \n",
    "    except:\n",
    "    # 관광지리스트명이랑 검색지명 동일한지 확인\n",
    "        검색지명 = driver.find_element_by_css_selector('.tAiQdd .lMbq3e .DUwDvf.fontHeadlineLarge').text    \n",
    "        #         if key == 검색지명:\n",
    "        driver.implicitly_wait(tt)\n",
    "        try:\n",
    "            driver.find_element_by_xpath('//*[@id=\"QA0Szd\"]/div/div/div[1]/div[2]/div/div[1]/div/div/div[2]/div[1]/div[1]/div[2]/div/div[1]')\n",
    "        except:\n",
    "            driver.close()\n",
    "#리뷰더보기\n",
    "        \n",
    "        try:\n",
    "            element = driver.find_element_by_css_selector('#QA0Szd > div > div > div.w6VYqd > div.bJzME.tTVLSc > div > div.e07Vkf.kA9KIf')\n",
    "            time.sleep(t)\n",
    "            driver.execute_script('arguments[0].scrollTop = arguments[0].scrollHeight', element)\n",
    "            time.sleep(t)\n",
    "            element = driver.find_elements_by_css_selector(\".m6QErb.Hk4XGb.QoaCgb.KoSBEe.tLjsW .M77dve\")\n",
    "            if len(element) < 2:\n",
    "                driver.execute_script(\"arguments[0].click();\", element[0])\n",
    "                time.sleep(t)\n",
    "            else:\n",
    "                driver.execute_script(\"arguments[0].click();\", element[1])\n",
    "                time.sleep(t)\n",
    "        except:\n",
    "            try:\n",
    "                driver.find_element_by_xpath('//*[@id=\"QA0Szd\"]/div/div/div[1]/div[2]/div/div[1]/div/div/div[2]/div[1]/div[1]/div[2]/div/div[1]/span[1]/span/span/span[2]/span[1]/button').click()\n",
    "            except:\n",
    "                driver.close()\n",
    "        #스크롤100번 내리기\n",
    "        \n",
    "        try:\n",
    "            리뷰총수 = driver.find_element_by_xpath('//*[@id=\"QA0Szd\"]/div/div/div[1]/div[2]/div/div[1]/div/div/div[2]/div[2]/div/div[2]/div[2]').text\n",
    "        except:\n",
    "            try:\n",
    "                리뷰총수=driver.find_element_by_xpath('//*[@id=\"QA0Szd\"]/div/div/div[1]/div[2]/div/div[1]/div/div/div[3]/div[2]/div/div[2]/div[2]').text\n",
    "            except:\n",
    "                driver.close()            \n",
    "        페이지카운트 = 100\n",
    "        try:\n",
    "            리뷰총수 = 리뷰총수.replace(\"리뷰 \",\"\").replace(\"개\",\"\").replace(',',\"\")\n",
    "        except:\n",
    "            리뷰총수 = 리뷰총수.replace(\"리뷰 \",\"\").replace(\"개\",\"\")\n",
    "        if int(리뷰총수) < 1001:\n",
    "            페이지카운트 = int(리뷰총수) // 10\n",
    "        for _ in range(페이지카운트):\n",
    "            scroll = driver.find_element_by_css_selector(\n",
    "                        '#QA0Szd > div > div > div.w6VYqd > div.bJzME.tTVLSc > div > div.e07Vkf.kA9KIf > div > div > div.m6QErb.DxyBCb.kA9KIf.dS8AEf')\n",
    "            time.sleep(1)\n",
    "            driver.execute_script('arguments[0].scrollTop = arguments[0].scrollHeight', scroll)\n",
    "            time.sleep(1)\n",
    "\n",
    "#평점 리스트\n",
    "        구글평점 = driver.find_elements_by_css_selector('.GHT2ce .DU9Pgb .kvMYJc')\n",
    "\n",
    "#리뷰 리스트\n",
    "        구글리뷰 = driver.find_elements_by_css_selector('.GHT2ce .MyEned .wiI7pd')\n",
    "\n",
    "#리뷰수\n",
    "        구글리뷰수 = len(구글리뷰)\n",
    "\n",
    "# 평점 리뷰 묶기\n",
    "        구글리뷰_평점=[]\n",
    "        \n",
    "        for i in tqdm(range(len(구글리뷰))):\n",
    "            try:\n",
    "                reivew = [구글리뷰[i].text,구글평점[i].get_attribute('aria-label').replace(\" 별표 \",\"\").replace(\"개 \",\"\")]\n",
    "                구글리뷰_평점.append(reivew)\n",
    "            except:\n",
    "                continue\n",
    "        \n",
    "#트립어드바이저 피클 불러오기\n",
    "#             with open(f\"{key}.pickle\",\"rb\") as fr:\n",
    "#                 크롤링_리뷰수 = pickle.load(fr)\n",
    "#                 reviews = 크롤링_리뷰수['트립리뷰수']\n",
    "#                 out_re = 크롤링_리뷰수['트립리뷰']\n",
    "\n",
    "    #트립어드바이저 & 구글 데이터 병합\n",
    "#             리뷰수 = reviews + 구글리뷰수\n",
    "\n",
    "#             리뷰평점크롤링 = out_re+구글리뷰_평점\n",
    "            \n",
    "    \n",
    "#피클로 저장하기\n",
    "        구글_리뷰크롤링={}\n",
    "        구글_리뷰크롤링['구글리뷰'] = 구글리뷰_평점\n",
    "        구글_리뷰크롤링['구글리뷰수']  = 구글리뷰수\n",
    "        with open(f\"{key}.pickle\",\"wb\") as fw:\n",
    "            pickle.dump(구글_리뷰크롤링, fw)  \n",
    "#         else:\n",
    "#             driver.quit()\n",
    "        "
   ]
  },
  {
   "cell_type": "code",
   "execution_count": 9,
   "id": "d829e9d8",
   "metadata": {
    "scrolled": false
   },
   "outputs": [
    {
     "data": {
      "application/vnd.jupyter.widget-view+json": {
       "model_id": "2f487fabd5f043f1aba685e436ecb403",
       "version_major": 2,
       "version_minor": 0
      },
      "text/plain": [
       "  0%|          | 0/930 [00:00<?, ?it/s]"
      ]
     },
     "metadata": {},
     "output_type": "display_data"
    },
    {
     "data": {
      "application/vnd.jupyter.widget-view+json": {
       "model_id": "f353e7a8d3cb4b4bbd8bad552a6d13ae",
       "version_major": 2,
       "version_minor": 0
      },
      "text/plain": [
       "  0%|          | 0/930 [00:00<?, ?it/s]"
      ]
     },
     "metadata": {},
     "output_type": "display_data"
    },
    {
     "data": {
      "application/vnd.jupyter.widget-view+json": {
       "model_id": "ceb10d9ce01a4dc08bd03ab59604f008",
       "version_major": 2,
       "version_minor": 0
      },
      "text/plain": [
       "  0%|          | 0/199 [00:00<?, ?it/s]"
      ]
     },
     "metadata": {},
     "output_type": "display_data"
    },
    {
     "data": {
      "application/vnd.jupyter.widget-view+json": {
       "model_id": "2ef75f4ccf274102a16db11e5f8fd554",
       "version_major": 2,
       "version_minor": 0
      },
      "text/plain": [
       "  0%|          | 0/183 [00:00<?, ?it/s]"
      ]
     },
     "metadata": {},
     "output_type": "display_data"
    },
    {
     "data": {
      "application/vnd.jupyter.widget-view+json": {
       "model_id": "9b13103dc2f148d0b51a4eb7a147af78",
       "version_major": 2,
       "version_minor": 0
      },
      "text/plain": [
       "  0%|          | 0/930 [00:00<?, ?it/s]"
      ]
     },
     "metadata": {},
     "output_type": "display_data"
    },
    {
     "ename": "WebDriverException",
     "evalue": "Message: chrome not reachable\n  (Session info: chrome=102.0.5005.115)\nStacktrace:\nBacktrace:\n\tOrdinal0 [0x00542733+2434867]\n\tOrdinal0 [0x004D07A1+1968033]\n\tOrdinal0 [0x003BC540+836928]\n\tOrdinal0 [0x003B01B2+786866]\n\tOrdinal0 [0x003B09E8+788968]\n\tOrdinal0 [0x003B22B2+795314]\n\tOrdinal0 [0x003ABCA9+769193]\n\tOrdinal0 [0x003BD9F0+842224]\n\tOrdinal0 [0x00414072+1196146]\n\tOrdinal0 [0x00404256+1131094]\n\tOrdinal0 [0x003DE840+976960]\n\tOrdinal0 [0x003DF736+980790]\n\tGetHandleVerifier [0x007B3C72+2515426]\n\tGetHandleVerifier [0x007A702F+2463135]\n\tGetHandleVerifier [0x005E522A+620442]\n\tGetHandleVerifier [0x005E4016+615814]\n\tOrdinal0 [0x004D707B+1994875]\n\tOrdinal0 [0x004DB938+2013496]\n\tOrdinal0 [0x004DBA25+2013733]\n\tOrdinal0 [0x004E4DE1+2051553]\n\tBaseThreadInitThunk [0x7520FA29+25]\n\tRtlGetAppContainerNamedObjectPath [0x77367A7E+286]\n\tRtlGetAppContainerNamedObjectPath [0x77367A4E+238]\n",
     "output_type": "error",
     "traceback": [
      "\u001b[1;31m---------------------------------------------------------------------------\u001b[0m",
      "\u001b[1;31mWebDriverException\u001b[0m                        Traceback (most recent call last)",
      "\u001b[1;32m~\\AppData\\Local\\Temp/ipykernel_19904/2589720923.py\u001b[0m in \u001b[0;36m구글크롤링\u001b[1;34m(key)\u001b[0m\n\u001b[0;32m     66\u001b[0m         \u001b[1;32mfor\u001b[0m \u001b[0m_\u001b[0m \u001b[1;32min\u001b[0m \u001b[0mrange\u001b[0m\u001b[1;33m(\u001b[0m\u001b[0m페이지카운트\u001b[0m\u001b[1;33m)\u001b[0m\u001b[1;33m:\u001b[0m\u001b[1;33m\u001b[0m\u001b[1;33m\u001b[0m\u001b[0m\n\u001b[1;32m---> 67\u001b[1;33m             scroll = driver.find_element_by_css_selector(\n\u001b[0m\u001b[0;32m     68\u001b[0m                         '#QA0Szd > div > div > div.w6VYqd > div.bJzME.tTVLSc > div > div.e07Vkf.kA9KIf > div > div > div.m6QErb.DxyBCb.kA9KIf.dS8AEf')\n",
      "\u001b[1;32mC:\\ProgramData\\Anaconda3\\lib\\site-packages\\selenium\\webdriver\\remote\\webdriver.py\u001b[0m in \u001b[0;36mfind_element_by_css_selector\u001b[1;34m(self, css_selector)\u001b[0m\n\u001b[0;32m    808\u001b[0m         )\n\u001b[1;32m--> 809\u001b[1;33m         \u001b[1;32mreturn\u001b[0m \u001b[0mself\u001b[0m\u001b[1;33m.\u001b[0m\u001b[0mfind_element\u001b[0m\u001b[1;33m(\u001b[0m\u001b[0mby\u001b[0m\u001b[1;33m=\u001b[0m\u001b[0mBy\u001b[0m\u001b[1;33m.\u001b[0m\u001b[0mCSS_SELECTOR\u001b[0m\u001b[1;33m,\u001b[0m \u001b[0mvalue\u001b[0m\u001b[1;33m=\u001b[0m\u001b[0mcss_selector\u001b[0m\u001b[1;33m)\u001b[0m\u001b[1;33m\u001b[0m\u001b[1;33m\u001b[0m\u001b[0m\n\u001b[0m\u001b[0;32m    810\u001b[0m \u001b[1;33m\u001b[0m\u001b[0m\n",
      "\u001b[1;32mC:\\ProgramData\\Anaconda3\\lib\\site-packages\\selenium\\webdriver\\remote\\webdriver.py\u001b[0m in \u001b[0;36mfind_element\u001b[1;34m(self, by, value)\u001b[0m\n\u001b[0;32m   1247\u001b[0m \u001b[1;33m\u001b[0m\u001b[0m\n\u001b[1;32m-> 1248\u001b[1;33m         return self.execute(Command.FIND_ELEMENT, {\n\u001b[0m\u001b[0;32m   1249\u001b[0m             \u001b[1;34m'using'\u001b[0m\u001b[1;33m:\u001b[0m \u001b[0mby\u001b[0m\u001b[1;33m,\u001b[0m\u001b[1;33m\u001b[0m\u001b[1;33m\u001b[0m\u001b[0m\n",
      "\u001b[1;32mC:\\ProgramData\\Anaconda3\\lib\\site-packages\\selenium\\webdriver\\remote\\webdriver.py\u001b[0m in \u001b[0;36mexecute\u001b[1;34m(self, driver_command, params)\u001b[0m\n\u001b[0;32m    424\u001b[0m         \u001b[1;32mif\u001b[0m \u001b[0mresponse\u001b[0m\u001b[1;33m:\u001b[0m\u001b[1;33m\u001b[0m\u001b[1;33m\u001b[0m\u001b[0m\n\u001b[1;32m--> 425\u001b[1;33m             \u001b[0mself\u001b[0m\u001b[1;33m.\u001b[0m\u001b[0merror_handler\u001b[0m\u001b[1;33m.\u001b[0m\u001b[0mcheck_response\u001b[0m\u001b[1;33m(\u001b[0m\u001b[0mresponse\u001b[0m\u001b[1;33m)\u001b[0m\u001b[1;33m\u001b[0m\u001b[1;33m\u001b[0m\u001b[0m\n\u001b[0m\u001b[0;32m    426\u001b[0m             response['value'] = self._unwrap_value(\n",
      "\u001b[1;32mC:\\ProgramData\\Anaconda3\\lib\\site-packages\\selenium\\webdriver\\remote\\errorhandler.py\u001b[0m in \u001b[0;36mcheck_response\u001b[1;34m(self, response)\u001b[0m\n\u001b[0;32m    246\u001b[0m             \u001b[1;32mraise\u001b[0m \u001b[0mexception_class\u001b[0m\u001b[1;33m(\u001b[0m\u001b[0mmessage\u001b[0m\u001b[1;33m,\u001b[0m \u001b[0mscreen\u001b[0m\u001b[1;33m,\u001b[0m \u001b[0mstacktrace\u001b[0m\u001b[1;33m,\u001b[0m \u001b[0malert_text\u001b[0m\u001b[1;33m)\u001b[0m  \u001b[1;31m# type: ignore[call-arg]  # mypy is not smart enough here\u001b[0m\u001b[1;33m\u001b[0m\u001b[1;33m\u001b[0m\u001b[0m\n\u001b[1;32m--> 247\u001b[1;33m         \u001b[1;32mraise\u001b[0m \u001b[0mexception_class\u001b[0m\u001b[1;33m(\u001b[0m\u001b[0mmessage\u001b[0m\u001b[1;33m,\u001b[0m \u001b[0mscreen\u001b[0m\u001b[1;33m,\u001b[0m \u001b[0mstacktrace\u001b[0m\u001b[1;33m)\u001b[0m\u001b[1;33m\u001b[0m\u001b[1;33m\u001b[0m\u001b[0m\n\u001b[0m\u001b[0;32m    248\u001b[0m \u001b[1;33m\u001b[0m\u001b[0m\n",
      "\u001b[1;31mWebDriverException\u001b[0m: Message: chrome not reachable\n  (Session info: chrome=102.0.5005.115)\nStacktrace:\nBacktrace:\n\tOrdinal0 [0x00542733+2434867]\n\tOrdinal0 [0x004D07A1+1968033]\n\tOrdinal0 [0x003BC540+836928]\n\tOrdinal0 [0x003B01B2+786866]\n\tOrdinal0 [0x003B09E8+788968]\n\tOrdinal0 [0x003B22B2+795314]\n\tOrdinal0 [0x003ABCA9+769193]\n\tOrdinal0 [0x003BD9F0+842224]\n\tOrdinal0 [0x00414072+1196146]\n\tOrdinal0 [0x00404256+1131094]\n\tOrdinal0 [0x003DE840+976960]\n\tOrdinal0 [0x003DF736+980790]\n\tGetHandleVerifier [0x007B3C72+2515426]\n\tGetHandleVerifier [0x007A702F+2463135]\n\tGetHandleVerifier [0x005E522A+620442]\n\tGetHandleVerifier [0x005E4016+615814]\n\tOrdinal0 [0x004D707B+1994875]\n\tOrdinal0 [0x004DB938+2013496]\n\tOrdinal0 [0x004DBA25+2013733]\n\tOrdinal0 [0x004E4DE1+2051553]\n\tBaseThreadInitThunk [0x7520FA29+25]\n\tRtlGetAppContainerNamedObjectPath [0x77367A7E+286]\n\tRtlGetAppContainerNamedObjectPath [0x77367A4E+238]\n",
      "\nDuring handling of the above exception, another exception occurred:\n",
      "\u001b[1;31mWebDriverException\u001b[0m                        Traceback (most recent call last)",
      "\u001b[1;32m~\\AppData\\Local\\Temp/ipykernel_19904/1632800614.py\u001b[0m in \u001b[0;36m<module>\u001b[1;34m\u001b[0m\n\u001b[0;32m      1\u001b[0m \u001b[0mdf\u001b[0m \u001b[1;33m=\u001b[0m \u001b[0mpd\u001b[0m\u001b[1;33m.\u001b[0m\u001b[0mread_csv\u001b[0m\u001b[1;33m(\u001b[0m\u001b[1;34m'부산여행순위.csv'\u001b[0m\u001b[1;33m)\u001b[0m\u001b[1;33m\u001b[0m\u001b[1;33m\u001b[0m\u001b[0m\n\u001b[0;32m      2\u001b[0m \u001b[1;32mfor\u001b[0m \u001b[0mi\u001b[0m \u001b[1;32min\u001b[0m \u001b[0mdf\u001b[0m\u001b[1;33m[\u001b[0m\u001b[1;34m'장소'\u001b[0m\u001b[1;33m]\u001b[0m\u001b[1;33m[\u001b[0m\u001b[1;36m24\u001b[0m\u001b[1;33m:\u001b[0m\u001b[1;33m]\u001b[0m\u001b[1;33m:\u001b[0m\u001b[1;33m\u001b[0m\u001b[1;33m\u001b[0m\u001b[0m\n\u001b[1;32m----> 3\u001b[1;33m     \u001b[0m구글크롤링\u001b[0m\u001b[1;33m(\u001b[0m\u001b[0mi\u001b[0m\u001b[1;33m)\u001b[0m\u001b[1;33m\u001b[0m\u001b[1;33m\u001b[0m\u001b[0m\n\u001b[0m",
      "\u001b[1;32m~\\AppData\\Local\\Temp/ipykernel_19904/2589720923.py\u001b[0m in \u001b[0;36m구글크롤링\u001b[1;34m(key)\u001b[0m\n\u001b[0;32m    108\u001b[0m     \u001b[1;32mexcept\u001b[0m\u001b[1;33m:\u001b[0m\u001b[1;33m\u001b[0m\u001b[1;33m\u001b[0m\u001b[0m\n\u001b[0;32m    109\u001b[0m     \u001b[1;31m# 관광지리스트명이랑 검색지명 동일한지 확인\u001b[0m\u001b[1;33m\u001b[0m\u001b[1;33m\u001b[0m\u001b[0m\n\u001b[1;32m--> 110\u001b[1;33m         \u001b[0m검색지명\u001b[0m \u001b[1;33m=\u001b[0m \u001b[0mdriver\u001b[0m\u001b[1;33m.\u001b[0m\u001b[0mfind_element_by_css_selector\u001b[0m\u001b[1;33m(\u001b[0m\u001b[1;34m'.tAiQdd .lMbq3e .DUwDvf.fontHeadlineLarge'\u001b[0m\u001b[1;33m)\u001b[0m\u001b[1;33m.\u001b[0m\u001b[0mtext\u001b[0m\u001b[1;33m\u001b[0m\u001b[1;33m\u001b[0m\u001b[0m\n\u001b[0m\u001b[0;32m    111\u001b[0m         \u001b[1;31m#         if key == 검색지명:\u001b[0m\u001b[1;33m\u001b[0m\u001b[1;33m\u001b[0m\u001b[0m\n\u001b[0;32m    112\u001b[0m         \u001b[0mdriver\u001b[0m\u001b[1;33m.\u001b[0m\u001b[0mimplicitly_wait\u001b[0m\u001b[1;33m(\u001b[0m\u001b[0mtt\u001b[0m\u001b[1;33m)\u001b[0m\u001b[1;33m\u001b[0m\u001b[1;33m\u001b[0m\u001b[0m\n",
      "\u001b[1;32mC:\\ProgramData\\Anaconda3\\lib\\site-packages\\selenium\\webdriver\\remote\\webdriver.py\u001b[0m in \u001b[0;36mfind_element_by_css_selector\u001b[1;34m(self, css_selector)\u001b[0m\n\u001b[0;32m    807\u001b[0m             \u001b[0mstacklevel\u001b[0m\u001b[1;33m=\u001b[0m\u001b[1;36m2\u001b[0m\u001b[1;33m,\u001b[0m\u001b[1;33m\u001b[0m\u001b[1;33m\u001b[0m\u001b[0m\n\u001b[0;32m    808\u001b[0m         )\n\u001b[1;32m--> 809\u001b[1;33m         \u001b[1;32mreturn\u001b[0m \u001b[0mself\u001b[0m\u001b[1;33m.\u001b[0m\u001b[0mfind_element\u001b[0m\u001b[1;33m(\u001b[0m\u001b[0mby\u001b[0m\u001b[1;33m=\u001b[0m\u001b[0mBy\u001b[0m\u001b[1;33m.\u001b[0m\u001b[0mCSS_SELECTOR\u001b[0m\u001b[1;33m,\u001b[0m \u001b[0mvalue\u001b[0m\u001b[1;33m=\u001b[0m\u001b[0mcss_selector\u001b[0m\u001b[1;33m)\u001b[0m\u001b[1;33m\u001b[0m\u001b[1;33m\u001b[0m\u001b[0m\n\u001b[0m\u001b[0;32m    810\u001b[0m \u001b[1;33m\u001b[0m\u001b[0m\n\u001b[0;32m    811\u001b[0m     \u001b[1;32mdef\u001b[0m \u001b[0mfind_elements_by_css_selector\u001b[0m\u001b[1;33m(\u001b[0m\u001b[0mself\u001b[0m\u001b[1;33m,\u001b[0m \u001b[0mcss_selector\u001b[0m\u001b[1;33m)\u001b[0m \u001b[1;33m->\u001b[0m \u001b[0mList\u001b[0m\u001b[1;33m[\u001b[0m\u001b[0mWebElement\u001b[0m\u001b[1;33m]\u001b[0m\u001b[1;33m:\u001b[0m\u001b[1;33m\u001b[0m\u001b[1;33m\u001b[0m\u001b[0m\n",
      "\u001b[1;32mC:\\ProgramData\\Anaconda3\\lib\\site-packages\\selenium\\webdriver\\remote\\webdriver.py\u001b[0m in \u001b[0;36mfind_element\u001b[1;34m(self, by, value)\u001b[0m\n\u001b[0;32m   1246\u001b[0m             \u001b[0mvalue\u001b[0m \u001b[1;33m=\u001b[0m \u001b[1;34m'[name=\"%s\"]'\u001b[0m \u001b[1;33m%\u001b[0m \u001b[0mvalue\u001b[0m\u001b[1;33m\u001b[0m\u001b[1;33m\u001b[0m\u001b[0m\n\u001b[0;32m   1247\u001b[0m \u001b[1;33m\u001b[0m\u001b[0m\n\u001b[1;32m-> 1248\u001b[1;33m         return self.execute(Command.FIND_ELEMENT, {\n\u001b[0m\u001b[0;32m   1249\u001b[0m             \u001b[1;34m'using'\u001b[0m\u001b[1;33m:\u001b[0m \u001b[0mby\u001b[0m\u001b[1;33m,\u001b[0m\u001b[1;33m\u001b[0m\u001b[1;33m\u001b[0m\u001b[0m\n\u001b[0;32m   1250\u001b[0m             'value': value})['value']\n",
      "\u001b[1;32mC:\\ProgramData\\Anaconda3\\lib\\site-packages\\selenium\\webdriver\\remote\\webdriver.py\u001b[0m in \u001b[0;36mexecute\u001b[1;34m(self, driver_command, params)\u001b[0m\n\u001b[0;32m    423\u001b[0m         \u001b[0mresponse\u001b[0m \u001b[1;33m=\u001b[0m \u001b[0mself\u001b[0m\u001b[1;33m.\u001b[0m\u001b[0mcommand_executor\u001b[0m\u001b[1;33m.\u001b[0m\u001b[0mexecute\u001b[0m\u001b[1;33m(\u001b[0m\u001b[0mdriver_command\u001b[0m\u001b[1;33m,\u001b[0m \u001b[0mparams\u001b[0m\u001b[1;33m)\u001b[0m\u001b[1;33m\u001b[0m\u001b[1;33m\u001b[0m\u001b[0m\n\u001b[0;32m    424\u001b[0m         \u001b[1;32mif\u001b[0m \u001b[0mresponse\u001b[0m\u001b[1;33m:\u001b[0m\u001b[1;33m\u001b[0m\u001b[1;33m\u001b[0m\u001b[0m\n\u001b[1;32m--> 425\u001b[1;33m             \u001b[0mself\u001b[0m\u001b[1;33m.\u001b[0m\u001b[0merror_handler\u001b[0m\u001b[1;33m.\u001b[0m\u001b[0mcheck_response\u001b[0m\u001b[1;33m(\u001b[0m\u001b[0mresponse\u001b[0m\u001b[1;33m)\u001b[0m\u001b[1;33m\u001b[0m\u001b[1;33m\u001b[0m\u001b[0m\n\u001b[0m\u001b[0;32m    426\u001b[0m             response['value'] = self._unwrap_value(\n\u001b[0;32m    427\u001b[0m                 response.get('value', None))\n",
      "\u001b[1;32mC:\\ProgramData\\Anaconda3\\lib\\site-packages\\selenium\\webdriver\\remote\\errorhandler.py\u001b[0m in \u001b[0;36mcheck_response\u001b[1;34m(self, response)\u001b[0m\n\u001b[0;32m    245\u001b[0m                 \u001b[0malert_text\u001b[0m \u001b[1;33m=\u001b[0m \u001b[0mvalue\u001b[0m\u001b[1;33m[\u001b[0m\u001b[1;34m'alert'\u001b[0m\u001b[1;33m]\u001b[0m\u001b[1;33m.\u001b[0m\u001b[0mget\u001b[0m\u001b[1;33m(\u001b[0m\u001b[1;34m'text'\u001b[0m\u001b[1;33m)\u001b[0m\u001b[1;33m\u001b[0m\u001b[1;33m\u001b[0m\u001b[0m\n\u001b[0;32m    246\u001b[0m             \u001b[1;32mraise\u001b[0m \u001b[0mexception_class\u001b[0m\u001b[1;33m(\u001b[0m\u001b[0mmessage\u001b[0m\u001b[1;33m,\u001b[0m \u001b[0mscreen\u001b[0m\u001b[1;33m,\u001b[0m \u001b[0mstacktrace\u001b[0m\u001b[1;33m,\u001b[0m \u001b[0malert_text\u001b[0m\u001b[1;33m)\u001b[0m  \u001b[1;31m# type: ignore[call-arg]  # mypy is not smart enough here\u001b[0m\u001b[1;33m\u001b[0m\u001b[1;33m\u001b[0m\u001b[0m\n\u001b[1;32m--> 247\u001b[1;33m         \u001b[1;32mraise\u001b[0m \u001b[0mexception_class\u001b[0m\u001b[1;33m(\u001b[0m\u001b[0mmessage\u001b[0m\u001b[1;33m,\u001b[0m \u001b[0mscreen\u001b[0m\u001b[1;33m,\u001b[0m \u001b[0mstacktrace\u001b[0m\u001b[1;33m)\u001b[0m\u001b[1;33m\u001b[0m\u001b[1;33m\u001b[0m\u001b[0m\n\u001b[0m\u001b[0;32m    248\u001b[0m \u001b[1;33m\u001b[0m\u001b[0m\n\u001b[0;32m    249\u001b[0m     \u001b[1;32mdef\u001b[0m \u001b[0m_value_or_default\u001b[0m\u001b[1;33m(\u001b[0m\u001b[0mself\u001b[0m\u001b[1;33m,\u001b[0m \u001b[0mobj\u001b[0m\u001b[1;33m:\u001b[0m \u001b[0mMapping\u001b[0m\u001b[1;33m[\u001b[0m\u001b[0m_KT\u001b[0m\u001b[1;33m,\u001b[0m \u001b[0m_VT\u001b[0m\u001b[1;33m]\u001b[0m\u001b[1;33m,\u001b[0m \u001b[0mkey\u001b[0m\u001b[1;33m:\u001b[0m \u001b[0m_KT\u001b[0m\u001b[1;33m,\u001b[0m \u001b[0mdefault\u001b[0m\u001b[1;33m:\u001b[0m \u001b[0m_VT\u001b[0m\u001b[1;33m)\u001b[0m \u001b[1;33m->\u001b[0m \u001b[0m_VT\u001b[0m\u001b[1;33m:\u001b[0m\u001b[1;33m\u001b[0m\u001b[1;33m\u001b[0m\u001b[0m\n",
      "\u001b[1;31mWebDriverException\u001b[0m: Message: chrome not reachable\n  (Session info: chrome=102.0.5005.115)\nStacktrace:\nBacktrace:\n\tOrdinal0 [0x00542733+2434867]\n\tOrdinal0 [0x004D07A1+1968033]\n\tOrdinal0 [0x003BC540+836928]\n\tOrdinal0 [0x003B01B2+786866]\n\tOrdinal0 [0x003B09E8+788968]\n\tOrdinal0 [0x003B22B2+795314]\n\tOrdinal0 [0x003ABCA9+769193]\n\tOrdinal0 [0x003BD9F0+842224]\n\tOrdinal0 [0x00414072+1196146]\n\tOrdinal0 [0x00404256+1131094]\n\tOrdinal0 [0x003DE840+976960]\n\tOrdinal0 [0x003DF736+980790]\n\tGetHandleVerifier [0x007B3C72+2515426]\n\tGetHandleVerifier [0x007A702F+2463135]\n\tGetHandleVerifier [0x005E522A+620442]\n\tGetHandleVerifier [0x005E4016+615814]\n\tOrdinal0 [0x004D707B+1994875]\n\tOrdinal0 [0x004DB938+2013496]\n\tOrdinal0 [0x004DBA25+2013733]\n\tOrdinal0 [0x004E4DE1+2051553]\n\tBaseThreadInitThunk [0x7520FA29+25]\n\tRtlGetAppContainerNamedObjectPath [0x77367A7E+286]\n\tRtlGetAppContainerNamedObjectPath [0x77367A4E+238]\n"
     ]
    }
   ],
   "source": [
    "df = pd.read_csv('부산여행순위.csv')\n",
    "for i in df['장소']:\n",
    "    구글크롤링(i)"
   ]
  },
  {
   "cell_type": "code",
   "execution_count": 36,
   "id": "ca4139dc",
   "metadata": {},
   "outputs": [
    {
     "data": {
      "text/plain": [
       "'68'"
      ]
     },
     "execution_count": 36,
     "metadata": {},
     "output_type": "execute_result"
    }
   ],
   "source": [
    "#리뷰개수가 1000개 이하일때\n",
    "# 리뷰총수 = driver.find_element_by_xpath('//*[@id=\"QA0Szd\"]/div/div/div[1]/div[2]/div/div[1]/div/div/div[2]/div[2]/div/div[2]/div[2]').text\n",
    "# 페이지카운트 = 100\n",
    "# try:\n",
    "#     리뷰총수 = 리뷰총수.replace(\"리뷰 \",\"\").replace(\"개\",\"\").replace(',',\"\")\n",
    "# except:\n",
    "#     리뷰총수 = 리뷰총수.replace(\"리뷰 \",\"\").replace(\"개\",\"\")\n",
    "# if int(리뷰총수) < 1001:\n",
    "#     페이지카운트 = int(리뷰총수) // 10"
   ]
  },
  {
   "cell_type": "code",
   "execution_count": 20,
   "id": "b2257731",
   "metadata": {},
   "outputs": [
    {
     "data": {
      "text/plain": [
       "<selenium.webdriver.remote.webelement.WebElement (session=\"9756ed72b8e766fe0c8978a25a1e23a4\", element=\"4e09b272-183c-46c2-8597-cd7ce1254fe6\")>"
      ]
     },
     "execution_count": 20,
     "metadata": {},
     "output_type": "execute_result"
    }
   ],
   "source": [
    "## 더보기란 2개일경우 한개일경우 체크\n",
    "# element = driver.find_elements_by_css_selector(\".m6QErb.Hk4XGb.QoaCgb.KoSBEe.tLjsW .M77dve\")\n",
    "# if len(element) < 2:\n",
    "#     driver.execute_script(\"arguments[0].click();\", element[0])\n",
    "#     time.sleep(3)\n",
    "# else:\n",
    "#     driver.execute_script(\"arguments[0].click();\", element[1])\n",
    "#     time.sleep(3)\n",
    "\n"
   ]
  },
  {
   "cell_type": "code",
   "execution_count": 42,
   "id": "31ea6eef",
   "metadata": {
    "scrolled": true
   },
   "outputs": [],
   "source": [
    "구글크롤링(\"비프광장\")"
   ]
  },
  {
   "cell_type": "code",
   "execution_count": 148,
   "id": "95d5fe92",
   "metadata": {},
   "outputs": [
    {
     "name": "stdout",
     "output_type": "stream",
     "text": [
      "786\n",
      "786\n"
     ]
    }
   ],
   "source": [
    "with open(\"감천 문화마을_.pickle\",\"rb\") as fr:\n",
    "    구글_트립어드바이저_리뷰크롤링 = pickle.load(fr)\n",
    "    리뷰평점크롤링 = 구글_트립어드바이저_리뷰크롤링['구글트립리뷰']\n",
    "    리뷰수 = 구글_트립어드바이저_리뷰크롤링['구글트립리뷰수']\n",
    "print(리뷰수)\n",
    "print(len(리뷰평점크롤링))"
   ]
  },
  {
   "cell_type": "code",
   "execution_count": null,
   "id": "56b7f60f",
   "metadata": {},
   "outputs": [],
   "source": [
    "asdf\n",
    "asdf\n",
    "asdf\n",
    "sadf\n",
    "sadf\n"
   ]
  }
 ],
 "metadata": {
  "kernelspec": {
   "display_name": "Python 3 (ipykernel)",
   "language": "python",
   "name": "python3"
  },
  "language_info": {
   "codemirror_mode": {
    "name": "ipython",
    "version": 3
   },
   "file_extension": ".py",
   "mimetype": "text/x-python",
   "name": "python",
   "nbconvert_exporter": "python",
   "pygments_lexer": "ipython3",
   "version": "3.9.7"
  }
 },
 "nbformat": 4,
 "nbformat_minor": 5
}
